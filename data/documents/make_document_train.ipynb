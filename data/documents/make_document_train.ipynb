{
  "cells": [
    {
      "cell_type": "code",
      "execution_count": null,
      "metadata": {
        "id": "4QKpLDW0fTNl"
      },
      "outputs": [],
      "source": [
        "import pandas as pd\n",
        "\n",
        "from itertools import product\n",
        "from google.colab import drive"
      ]
    },
    {
      "cell_type": "code",
      "execution_count": null,
      "metadata": {
        "colab": {
          "base_uri": "https://localhost:8080/"
        },
        "id": "gx2offDFgjgL",
        "outputId": "be91601a-496e-4c4f-f425-d6b42cb38990"
      },
      "outputs": [],
      "source": [
        "drive.mount('/content/drive')\n",
        "%cd /content/drive/MyDrive/Colab Notebooks/wallpaper-defects-qa/"
      ]
    },
    {
      "cell_type": "markdown",
      "metadata": {
        "id": "siNRH2i_g7nr"
      },
      "source": [
        "# train data"
      ]
    },
    {
      "cell_type": "code",
      "execution_count": null,
      "metadata": {
        "colab": {
          "base_uri": "https://localhost:8080/",
          "height": 744
        },
        "id": "85AcN9yqg0Xr",
        "outputId": "4542dbe3-e45d-4f38-ba92-5d06f494cd82"
      },
      "outputs": [],
      "source": [
        "train_file_name = 'train.csv'\n",
        "train_df = pd.read_csv('data/open/' + train_file_name)\n",
        "train_df.head()"
      ]
    },
    {
      "cell_type": "code",
      "execution_count": null,
      "metadata": {
        "id": "4GgJISdOhBeo"
      },
      "outputs": [],
      "source": [
        "data = []\n",
        "for i in range(len(train_df)):\n",
        "    for q, a in list(product([f\"질문_{x}\" for x in range(1,3)], [f\"답변_{x}\" for x in range(1,6)])):\n",
        "        data.append((train_df.at[i, q], train_df.at[i, a]))"
      ]
    },
    {
      "cell_type": "code",
      "execution_count": null,
      "metadata": {
        "id": "EyGNxgyEhtk0"
      },
      "outputs": [],
      "source": [
        "assert len(data) == len(train_df) * 2 * 5"
      ]
    },
    {
      "cell_type": "code",
      "execution_count": null,
      "metadata": {
        "colab": {
          "base_uri": "https://localhost:8080/"
        },
        "id": "KP8DzCekj6JT",
        "outputId": "f2870702-1388-47fe-cc2c-572a2dc6c719"
      },
      "outputs": [],
      "source": [
        "data[:5]"
      ]
    },
    {
      "cell_type": "markdown",
      "metadata": {
        "id": "PKYOWN1Als5A"
      },
      "source": [
        "# make document"
      ]
    },
    {
      "cell_type": "code",
      "execution_count": null,
      "metadata": {
        "id": "QUOoxKO1hx64"
      },
      "outputs": [],
      "source": [
        "document_df = pd.DataFrame(data)"
      ]
    },
    {
      "cell_type": "code",
      "execution_count": null,
      "metadata": {
        "id": "48jQsliikb9P"
      },
      "outputs": [],
      "source": [
        "document_df.columns = ['질문', '답변']"
      ]
    },
    {
      "cell_type": "code",
      "execution_count": null,
      "metadata": {
        "id": "1xLDkDhqkkHH"
      },
      "outputs": [],
      "source": [
        "document_df.to_csv(\"data/documents/document_using_train_data.csv\", index=False, encoding='utf-8')"
      ]
    }
  ],
  "metadata": {
    "colab": {
      "provenance": []
    },
    "kernelspec": {
      "display_name": "Python 3",
      "name": "python3"
    },
    "language_info": {
      "name": "python"
    }
  },
  "nbformat": 4,
  "nbformat_minor": 0
}
