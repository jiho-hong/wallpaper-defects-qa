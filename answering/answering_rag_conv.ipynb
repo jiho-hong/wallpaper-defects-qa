{
  "cells": [
    {
      "cell_type": "code",
      "execution_count": null,
      "metadata": {
        "id": "uIGiF79EK2dL"
      },
      "outputs": [],
      "source": [
        "!pip install -q langchain faiss-gpu sentence-transformers==2.2.2"
      ]
    },
    {
      "cell_type": "code",
      "execution_count": null,
      "metadata": {
        "id": "O85wUKkbMkdf"
      },
      "outputs": [],
      "source": [
        "import os\n",
        "import pickle\n",
        "import pandas as pd\n",
        "\n",
        "from tqdm import tqdm\n",
        "from google.colab import drive\n",
        "from langchain.vectorstores import FAISS\n",
        "from langchain_community.embeddings import HuggingFaceEmbeddings\n",
        "from langchain_community.document_loaders.csv_loader import CSVLoader\n",
        "from sentence_transformers import SentenceTransformer\n",
        "from transformers import AutoConfig, AutoModelForCausalLM, AutoTokenizer, pipeline\n",
        "from langchain_community.llms.huggingface_pipeline import HuggingFacePipeline\n",
        "from langchain.chains import ConversationalRetrievalChain"
      ]
    },
    {
      "cell_type": "code",
      "execution_count": null,
      "metadata": {
        "colab": {
          "base_uri": "https://localhost:8080/"
        },
        "id": "kfJ-WGAHMihT",
        "outputId": "a07bccd2-3e73-4f5c-a117-38ffce256bbf"
      },
      "outputs": [],
      "source": [
        "drive.mount('/content/drive')\n",
        "%cd /content/drive/MyDrive/Colab Notebooks/wallpaper-defects-qa/"
      ]
    },
    {
      "cell_type": "markdown",
      "metadata": {
        "id": "cg-FDfcUXBdF"
      },
      "source": [
        "# Documents"
      ]
    },
    {
      "cell_type": "code",
      "execution_count": null,
      "metadata": {
        "id": "6zPkxbj0gqj7"
      },
      "outputs": [],
      "source": [
        "document_name = 'document_using_train_data.csv'"
      ]
    },
    {
      "cell_type": "code",
      "execution_count": null,
      "metadata": {
        "id": "0WdssGaGXAk2"
      },
      "outputs": [],
      "source": [
        "loader = CSVLoader(file_path=f'data/documents/{document_name}', encoding='utf-8')\n",
        "data = loader.load()"
      ]
    },
    {
      "cell_type": "code",
      "execution_count": null,
      "metadata": {
        "colab": {
          "base_uri": "https://localhost:8080/"
        },
        "id": "9t6IjfMgy6m7",
        "outputId": "99acc017-7f42-4cf4-8173-5b25aa51ccab"
      },
      "outputs": [],
      "source": [
        "len(data)"
      ]
    },
    {
      "cell_type": "markdown",
      "metadata": {
        "id": "vGg_23SxOIUP"
      },
      "source": [
        "# Embedding model"
      ]
    },
    {
      "cell_type": "code",
      "execution_count": null,
      "metadata": {
        "id": "W5poHlzEOKu6"
      },
      "outputs": [],
      "source": [
        "embedding_model_name = 'distiluse-base-multilingual-cased-v1'\n",
        "model_kwargs = {'device':'cuda'}\n",
        "encode_kwargs = {'normalize_embeddings': False}"
      ]
    },
    {
      "cell_type": "code",
      "execution_count": null,
      "metadata": {
        "colab": {
          "base_uri": "https://localhost:8080/"
        },
        "id": "tIR-1djLRV03",
        "outputId": "8823d49f-dfd1-4268-f9be-3f44ae4abb50"
      },
      "outputs": [],
      "source": [
        "embeddings = HuggingFaceEmbeddings(\n",
        "    model_name=embedding_model_name,\n",
        "    model_kwargs=model_kwargs,\n",
        "    encode_kwargs=encode_kwargs\n",
        ")"
      ]
    },
    {
      "cell_type": "markdown",
      "metadata": {
        "id": "tisOnC-QTUud"
      },
      "source": [
        "# Index"
      ]
    },
    {
      "cell_type": "code",
      "execution_count": null,
      "metadata": {
        "id": "eAZ3_65DNBec"
      },
      "outputs": [],
      "source": [
        "vectorstore = FAISS.from_documents(data, embedding=embeddings)"
      ]
    },
    {
      "cell_type": "code",
      "execution_count": null,
      "metadata": {
        "id": "232njz6BTcUG"
      },
      "outputs": [],
      "source": [
        "vectorstore.save_local(f'faiss_index/faiss_index_{os.path.basename(document_name)}')"
      ]
    },
    {
      "cell_type": "code",
      "execution_count": null,
      "metadata": {
        "id": "AJUyYlGeTyYN"
      },
      "outputs": [],
      "source": [
        "# vectorstore = FAISS.load_local(\"faiss_index\", embeddings)"
      ]
    },
    {
      "cell_type": "markdown",
      "metadata": {
        "id": "hGrPh8z2c6cV"
      },
      "source": [
        "# Retriever"
      ]
    },
    {
      "cell_type": "code",
      "execution_count": null,
      "metadata": {
        "id": "8OURHDCHPC-M"
      },
      "outputs": [],
      "source": [
        "retriever = vectorstore.as_retriever(search_kwargs={\"k\": 3})"
      ]
    },
    {
      "cell_type": "markdown",
      "metadata": {
        "id": "incivBgDbOql"
      },
      "source": [
        "# LLM"
      ]
    },
    {
      "cell_type": "code",
      "execution_count": null,
      "metadata": {
        "colab": {
          "base_uri": "https://localhost:8080/",
          "height": 194,
          "referenced_widgets": [
            "f947565c0cb04588a8131ea03d9f66c9",
            "bb8fa398a8ef4634a2c3d91776066633",
            "96e31e2e77f840ffbb9d20a45d1089b4",
            "1eced871501f44c8ab384aa89e05a481",
            "405b4ede8ace444f8089197dfc16be77",
            "8c3632cb9b79482d97785516865c15bf",
            "74e5042b83b446ce8921efc9506ca16f",
            "be46d3c6bc9c40918fb9d4673e7549d7",
            "995355d1f8cc4edfa1eef8cda56910d9",
            "4828ed1e816042bba7ee66749f50ed72",
            "4f6d4292e616461e82813c571e91e719"
          ]
        },
        "id": "dQ9HiIAYbQUD",
        "outputId": "e52cd5bd-63d5-4e9c-90c1-f168255d6b24"
      },
      "outputs": [],
      "source": [
        "model_id = \"hongzoh/wdqa-v2\"\n",
        "model_config = AutoConfig.from_pretrained(model_id)\n",
        "model = AutoModelForCausalLM.from_pretrained(model_id, config=model_config).to(0)\n",
        "tokenizer = AutoTokenizer.from_pretrained(model_id)"
      ]
    },
    {
      "cell_type": "code",
      "execution_count": null,
      "metadata": {
        "id": "tFoIxY_jTlDl"
      },
      "outputs": [],
      "source": [
        "generate_text = pipeline(\n",
        "    model=model,\n",
        "    tokenizer=tokenizer,\n",
        "    return_full_text=True,\n",
        "    task='text-generation',\n",
        "    max_new_tokens=512,\n",
        "    repetition_penalty=1.1\n",
        ")"
      ]
    },
    {
      "cell_type": "code",
      "execution_count": null,
      "metadata": {
        "id": "1CWg_LbjTx_Y"
      },
      "outputs": [],
      "source": [
        "llm = HuggingFacePipeline(pipeline=generate_text)"
      ]
    },
    {
      "cell_type": "markdown",
      "metadata": {
        "id": "HulhDMtCcj80"
      },
      "source": [
        "# Chain"
      ]
    },
    {
      "cell_type": "code",
      "execution_count": null,
      "metadata": {
        "id": "cQydaHxIUMUe"
      },
      "outputs": [],
      "source": [
        "chain = ConversationalRetrievalChain.from_llm(llm, retriever, return_source_documents=True)"
      ]
    },
    {
      "cell_type": "markdown",
      "metadata": {
        "id": "5xD-We_YOFba"
      },
      "source": [
        "# Test data"
      ]
    },
    {
      "cell_type": "code",
      "execution_count": null,
      "metadata": {
        "colab": {
          "base_uri": "https://localhost:8080/",
          "height": 206
        },
        "id": "FuGQqBy9Ml7f",
        "outputId": "f7f35b5e-529f-4428-9e7d-405dc1988cd0"
      },
      "outputs": [],
      "source": [
        "test_file_name = 'test.csv'\n",
        "test_df = pd.read_csv('data/open/' + test_file_name)\n",
        "test_df.head()"
      ]
    },
    {
      "cell_type": "code",
      "execution_count": null,
      "metadata": {
        "id": "UhxrK0dtMoRP"
      },
      "outputs": [],
      "source": [
        "q_list = test_df['질문'].values.tolist()"
      ]
    },
    {
      "cell_type": "markdown",
      "metadata": {
        "id": "_YlCKZmmgGsP"
      },
      "source": [
        "# Output"
      ]
    },
    {
      "cell_type": "code",
      "execution_count": null,
      "metadata": {
        "colab": {
          "base_uri": "https://localhost:8080/"
        },
        "id": "GbJ_E7T9Ui7w",
        "outputId": "6e75bb75-83ed-4196-a50b-7c8cd7e64d3c"
      },
      "outputs": [],
      "source": [
        "results = []\n",
        "\n",
        "for q in tqdm(q_list):\n",
        "    result = chain({\"question\": q, \"chat_history\": []})\n",
        "    results.append(result)\n",
        "\n",
        "    print(f'\\n질문: {q}')\n",
        "    print(f'\\n답변: {result['answer']}')\n",
        "    print('\\n================================================================')"
      ]
    },
    {
      "cell_type": "code",
      "execution_count": null,
      "metadata": {
        "id": "DnlMm-ezb-h2"
      },
      "outputs": [],
      "source": [
        "answers = []\n",
        "\n",
        "for result in results:\n",
        "    answers.append(result['answer'])"
      ]
    },
    {
      "cell_type": "code",
      "execution_count": null,
      "metadata": {
        "id": "mlNLTZquAexW"
      },
      "outputs": [],
      "source": [
        "with open(f'outputs/output_{os.path.basename(model_id)}_rag_conv_{document_name}.pickle', 'wb') as f:\n",
        "    pickle.dump(answers, f)"
      ]
    },
    {
      "cell_type": "markdown",
      "metadata": {
        "id": "69M_DtwGAu1a"
      },
      "source": [
        "# Embedding"
      ]
    },
    {
      "cell_type": "code",
      "execution_count": null,
      "metadata": {
        "id": "BWwn_Mjs_H8R"
      },
      "outputs": [],
      "source": [
        "emb_model = SentenceTransformer('distiluse-base-multilingual-cased-v1')"
      ]
    },
    {
      "cell_type": "code",
      "execution_count": null,
      "metadata": {
        "id": "sxq9paW4AxM8"
      },
      "outputs": [],
      "source": [
        "emb = emb_model.encode(answers)"
      ]
    },
    {
      "cell_type": "code",
      "execution_count": null,
      "metadata": {
        "id": "W-0bYamVAyCV"
      },
      "outputs": [],
      "source": [
        "submission_file_name = f'sample_submission.csv'\n",
        "submission_df = pd.read_csv('data/open/' + submission_file_name)"
      ]
    },
    {
      "cell_type": "code",
      "execution_count": null,
      "metadata": {
        "id": "geyfQa4IAzJ8"
      },
      "outputs": [],
      "source": [
        "assert len(emb) == len(submission_df)"
      ]
    },
    {
      "cell_type": "code",
      "execution_count": null,
      "metadata": {
        "colab": {
          "base_uri": "https://localhost:8080/",
          "height": 256
        },
        "id": "LtJ_0_BtA0ie",
        "outputId": "c9ee4b2e-ce4f-4aea-98e3-62fec0762bbe"
      },
      "outputs": [],
      "source": [
        "for test_idx in range(len(emb)):\n",
        "    for vec_idx in range(512):\n",
        "        submission_df.at[test_idx, 'vec_' + str(vec_idx)] = emb[test_idx][vec_idx]\n",
        "submission_df.head()"
      ]
    },
    {
      "cell_type": "code",
      "execution_count": null,
      "metadata": {
        "id": "CpUksZplA1p0"
      },
      "outputs": [],
      "source": [
        "suffix = f'{os.path.basename(model_id)}_rag_conv_{document_name}'\n",
        "submission_df.to_csv(f'submission/submission_{suffix}.csv', index=False)"
      ]
    }
  ],
  "metadata": {
    "accelerator": "GPU",
    "colab": {
      "gpuType": "A100",
      "machine_shape": "hm",
      "provenance": []
    },
    "kernelspec": {
      "display_name": "Python 3",
      "name": "python3"
    },
    "language_info": {
      "name": "python"
    },
    "widgets": {
      "application/vnd.jupyter.widget-state+json": {
        "1eced871501f44c8ab384aa89e05a481": {
          "model_module": "@jupyter-widgets/controls",
          "model_module_version": "1.5.0",
          "model_name": "HTMLModel",
          "state": {
            "_dom_classes": [],
            "_model_module": "@jupyter-widgets/controls",
            "_model_module_version": "1.5.0",
            "_model_name": "HTMLModel",
            "_view_count": null,
            "_view_module": "@jupyter-widgets/controls",
            "_view_module_version": "1.5.0",
            "_view_name": "HTMLView",
            "description": "",
            "description_tooltip": null,
            "layout": "IPY_MODEL_4828ed1e816042bba7ee66749f50ed72",
            "placeholder": "​",
            "style": "IPY_MODEL_4f6d4292e616461e82813c571e91e719",
            "value": " 3/3 [00:06&lt;00:00,  1.90s/it]"
          }
        },
        "405b4ede8ace444f8089197dfc16be77": {
          "model_module": "@jupyter-widgets/base",
          "model_module_version": "1.2.0",
          "model_name": "LayoutModel",
          "state": {
            "_model_module": "@jupyter-widgets/base",
            "_model_module_version": "1.2.0",
            "_model_name": "LayoutModel",
            "_view_count": null,
            "_view_module": "@jupyter-widgets/base",
            "_view_module_version": "1.2.0",
            "_view_name": "LayoutView",
            "align_content": null,
            "align_items": null,
            "align_self": null,
            "border": null,
            "bottom": null,
            "display": null,
            "flex": null,
            "flex_flow": null,
            "grid_area": null,
            "grid_auto_columns": null,
            "grid_auto_flow": null,
            "grid_auto_rows": null,
            "grid_column": null,
            "grid_gap": null,
            "grid_row": null,
            "grid_template_areas": null,
            "grid_template_columns": null,
            "grid_template_rows": null,
            "height": null,
            "justify_content": null,
            "justify_items": null,
            "left": null,
            "margin": null,
            "max_height": null,
            "max_width": null,
            "min_height": null,
            "min_width": null,
            "object_fit": null,
            "object_position": null,
            "order": null,
            "overflow": null,
            "overflow_x": null,
            "overflow_y": null,
            "padding": null,
            "right": null,
            "top": null,
            "visibility": null,
            "width": null
          }
        },
        "4828ed1e816042bba7ee66749f50ed72": {
          "model_module": "@jupyter-widgets/base",
          "model_module_version": "1.2.0",
          "model_name": "LayoutModel",
          "state": {
            "_model_module": "@jupyter-widgets/base",
            "_model_module_version": "1.2.0",
            "_model_name": "LayoutModel",
            "_view_count": null,
            "_view_module": "@jupyter-widgets/base",
            "_view_module_version": "1.2.0",
            "_view_name": "LayoutView",
            "align_content": null,
            "align_items": null,
            "align_self": null,
            "border": null,
            "bottom": null,
            "display": null,
            "flex": null,
            "flex_flow": null,
            "grid_area": null,
            "grid_auto_columns": null,
            "grid_auto_flow": null,
            "grid_auto_rows": null,
            "grid_column": null,
            "grid_gap": null,
            "grid_row": null,
            "grid_template_areas": null,
            "grid_template_columns": null,
            "grid_template_rows": null,
            "height": null,
            "justify_content": null,
            "justify_items": null,
            "left": null,
            "margin": null,
            "max_height": null,
            "max_width": null,
            "min_height": null,
            "min_width": null,
            "object_fit": null,
            "object_position": null,
            "order": null,
            "overflow": null,
            "overflow_x": null,
            "overflow_y": null,
            "padding": null,
            "right": null,
            "top": null,
            "visibility": null,
            "width": null
          }
        },
        "4f6d4292e616461e82813c571e91e719": {
          "model_module": "@jupyter-widgets/controls",
          "model_module_version": "1.5.0",
          "model_name": "DescriptionStyleModel",
          "state": {
            "_model_module": "@jupyter-widgets/controls",
            "_model_module_version": "1.5.0",
            "_model_name": "DescriptionStyleModel",
            "_view_count": null,
            "_view_module": "@jupyter-widgets/base",
            "_view_module_version": "1.2.0",
            "_view_name": "StyleView",
            "description_width": ""
          }
        },
        "74e5042b83b446ce8921efc9506ca16f": {
          "model_module": "@jupyter-widgets/controls",
          "model_module_version": "1.5.0",
          "model_name": "DescriptionStyleModel",
          "state": {
            "_model_module": "@jupyter-widgets/controls",
            "_model_module_version": "1.5.0",
            "_model_name": "DescriptionStyleModel",
            "_view_count": null,
            "_view_module": "@jupyter-widgets/base",
            "_view_module_version": "1.2.0",
            "_view_name": "StyleView",
            "description_width": ""
          }
        },
        "8c3632cb9b79482d97785516865c15bf": {
          "model_module": "@jupyter-widgets/base",
          "model_module_version": "1.2.0",
          "model_name": "LayoutModel",
          "state": {
            "_model_module": "@jupyter-widgets/base",
            "_model_module_version": "1.2.0",
            "_model_name": "LayoutModel",
            "_view_count": null,
            "_view_module": "@jupyter-widgets/base",
            "_view_module_version": "1.2.0",
            "_view_name": "LayoutView",
            "align_content": null,
            "align_items": null,
            "align_self": null,
            "border": null,
            "bottom": null,
            "display": null,
            "flex": null,
            "flex_flow": null,
            "grid_area": null,
            "grid_auto_columns": null,
            "grid_auto_flow": null,
            "grid_auto_rows": null,
            "grid_column": null,
            "grid_gap": null,
            "grid_row": null,
            "grid_template_areas": null,
            "grid_template_columns": null,
            "grid_template_rows": null,
            "height": null,
            "justify_content": null,
            "justify_items": null,
            "left": null,
            "margin": null,
            "max_height": null,
            "max_width": null,
            "min_height": null,
            "min_width": null,
            "object_fit": null,
            "object_position": null,
            "order": null,
            "overflow": null,
            "overflow_x": null,
            "overflow_y": null,
            "padding": null,
            "right": null,
            "top": null,
            "visibility": null,
            "width": null
          }
        },
        "96e31e2e77f840ffbb9d20a45d1089b4": {
          "model_module": "@jupyter-widgets/controls",
          "model_module_version": "1.5.0",
          "model_name": "FloatProgressModel",
          "state": {
            "_dom_classes": [],
            "_model_module": "@jupyter-widgets/controls",
            "_model_module_version": "1.5.0",
            "_model_name": "FloatProgressModel",
            "_view_count": null,
            "_view_module": "@jupyter-widgets/controls",
            "_view_module_version": "1.5.0",
            "_view_name": "ProgressView",
            "bar_style": "success",
            "description": "",
            "description_tooltip": null,
            "layout": "IPY_MODEL_be46d3c6bc9c40918fb9d4673e7549d7",
            "max": 3,
            "min": 0,
            "orientation": "horizontal",
            "style": "IPY_MODEL_995355d1f8cc4edfa1eef8cda56910d9",
            "value": 3
          }
        },
        "995355d1f8cc4edfa1eef8cda56910d9": {
          "model_module": "@jupyter-widgets/controls",
          "model_module_version": "1.5.0",
          "model_name": "ProgressStyleModel",
          "state": {
            "_model_module": "@jupyter-widgets/controls",
            "_model_module_version": "1.5.0",
            "_model_name": "ProgressStyleModel",
            "_view_count": null,
            "_view_module": "@jupyter-widgets/base",
            "_view_module_version": "1.2.0",
            "_view_name": "StyleView",
            "bar_color": null,
            "description_width": ""
          }
        },
        "bb8fa398a8ef4634a2c3d91776066633": {
          "model_module": "@jupyter-widgets/controls",
          "model_module_version": "1.5.0",
          "model_name": "HTMLModel",
          "state": {
            "_dom_classes": [],
            "_model_module": "@jupyter-widgets/controls",
            "_model_module_version": "1.5.0",
            "_model_name": "HTMLModel",
            "_view_count": null,
            "_view_module": "@jupyter-widgets/controls",
            "_view_module_version": "1.5.0",
            "_view_name": "HTMLView",
            "description": "",
            "description_tooltip": null,
            "layout": "IPY_MODEL_8c3632cb9b79482d97785516865c15bf",
            "placeholder": "​",
            "style": "IPY_MODEL_74e5042b83b446ce8921efc9506ca16f",
            "value": "Loading checkpoint shards: 100%"
          }
        },
        "be46d3c6bc9c40918fb9d4673e7549d7": {
          "model_module": "@jupyter-widgets/base",
          "model_module_version": "1.2.0",
          "model_name": "LayoutModel",
          "state": {
            "_model_module": "@jupyter-widgets/base",
            "_model_module_version": "1.2.0",
            "_model_name": "LayoutModel",
            "_view_count": null,
            "_view_module": "@jupyter-widgets/base",
            "_view_module_version": "1.2.0",
            "_view_name": "LayoutView",
            "align_content": null,
            "align_items": null,
            "align_self": null,
            "border": null,
            "bottom": null,
            "display": null,
            "flex": null,
            "flex_flow": null,
            "grid_area": null,
            "grid_auto_columns": null,
            "grid_auto_flow": null,
            "grid_auto_rows": null,
            "grid_column": null,
            "grid_gap": null,
            "grid_row": null,
            "grid_template_areas": null,
            "grid_template_columns": null,
            "grid_template_rows": null,
            "height": null,
            "justify_content": null,
            "justify_items": null,
            "left": null,
            "margin": null,
            "max_height": null,
            "max_width": null,
            "min_height": null,
            "min_width": null,
            "object_fit": null,
            "object_position": null,
            "order": null,
            "overflow": null,
            "overflow_x": null,
            "overflow_y": null,
            "padding": null,
            "right": null,
            "top": null,
            "visibility": null,
            "width": null
          }
        },
        "f947565c0cb04588a8131ea03d9f66c9": {
          "model_module": "@jupyter-widgets/controls",
          "model_module_version": "1.5.0",
          "model_name": "HBoxModel",
          "state": {
            "_dom_classes": [],
            "_model_module": "@jupyter-widgets/controls",
            "_model_module_version": "1.5.0",
            "_model_name": "HBoxModel",
            "_view_count": null,
            "_view_module": "@jupyter-widgets/controls",
            "_view_module_version": "1.5.0",
            "_view_name": "HBoxView",
            "box_style": "",
            "children": [
              "IPY_MODEL_bb8fa398a8ef4634a2c3d91776066633",
              "IPY_MODEL_96e31e2e77f840ffbb9d20a45d1089b4",
              "IPY_MODEL_1eced871501f44c8ab384aa89e05a481"
            ],
            "layout": "IPY_MODEL_405b4ede8ace444f8089197dfc16be77"
          }
        }
      }
    }
  },
  "nbformat": 4,
  "nbformat_minor": 0
}
