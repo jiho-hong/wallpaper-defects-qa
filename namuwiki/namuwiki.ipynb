{
 "cells": [
  {
   "cell_type": "code",
   "execution_count": 2,
   "metadata": {},
   "outputs": [
    {
     "name": "stdout",
     "output_type": "stream",
     "text": [
      "Collecting ijson\n",
      "  Obtaining dependency information for ijson from https://files.pythonhosted.org/packages/3f/12/2d9a51a116291589feeeb7c6ab38dfad2a48afe7e22476ce2a0df8e43443/ijson-3.2.3-cp311-cp311-win_amd64.whl.metadata\n",
      "  Downloading ijson-3.2.3-cp311-cp311-win_amd64.whl.metadata (21 kB)\n",
      "Downloading ijson-3.2.3-cp311-cp311-win_amd64.whl (48 kB)\n",
      "   ---------------------------------------- 0.0/48.2 kB ? eta -:--:--\n",
      "   ---------------------------------------- 48.2/48.2 kB 2.4 MB/s eta 0:00:00\n",
      "Installing collected packages: ijson\n",
      "Successfully installed ijson-3.2.3\n"
     ]
    }
   ],
   "source": [
    "!pip install ijson"
   ]
  },
  {
   "cell_type": "markdown",
   "metadata": {},
   "source": [
    "## json 파일에서 관련 문서 찾기"
   ]
  },
  {
   "cell_type": "code",
   "execution_count": 52,
   "metadata": {},
   "outputs": [
    {
     "name": "stdout",
     "output_type": "stream",
     "text": [
      "Filtered 328 documents.\n"
     ]
    }
   ],
   "source": [
    "import ijson\n",
    "\n",
    "filename = './namuwiki/namuwiki_20210301.json'\n",
    "\n",
    "filtered_documents = []\n",
    "\n",
    "with open(filename, 'rb') as file:\n",
    "    documents = ijson.items(file, 'item')\n",
    "    \n",
    "    for doc in documents:\n",
    "        content = doc['text']\n",
    "        if ('분류:건축' in content or '분류:디자인' in content) and (not '분류:건축가' in content):\n",
    "            filtered_documents.append([doc['title'],doc['text']])\n",
    "\n",
    "print(f\"Filtered {len(filtered_documents)} documents.\")"
   ]
  },
  {
   "cell_type": "code",
   "execution_count": 47,
   "metadata": {},
   "outputs": [
    {
     "data": {
      "text/plain": [
       "['SANAA',\n",
       " \"[include(틀:역대 프리츠커상 수상자)]\\n\\n[[파일:attachment/SANAA/kanazawa_21c_museum.jpg]]\\nSANAA가 설계한 가나자와 21세기 박물관\\n\\n[[파일:attachment/sejima-nishizawa-sanaa.jpg]]\\n일본의 건축 사무소 SANAA / Kazuyo Sejima + Ryue Nishizawa. Sejima And Nishizawa And Associates 의 약자라고 한다.\\n\\n[[일본]]의 건축가 세지마 카즈요(妹島和世:사진에서 오른쪽)와 니시자와 류에(西沢立衛:사진에서 왼쪽)의 유닛 건축 사무소. 2010년 [[프리츠커상]] 수상[* 일본인으로는 역대 네번째. 니시자와 류에는 수상 당시 44세로 사상 최연소 프리츠커 수상자에 등극했다.] 및 일본건축협회상 '''2회''' 수상, 금사자상 수상 등 일본 국내 뿐 아니라 세계구급으로 유명한 건축 유닛이다. 대표적인 건축물로는 프리츠커상 수상작인 카나자와 21세기 미술관, 스위스 [[로잔 연방 공과대학교]] 캠퍼스의 EPFL Rolex Learning Center, 프랑스의 [[루브르]] 박물관 별관인 The Louvre Lens, 뉴욕의 New Museum of Contemporary Art, 독일 에센의 Zollverein Design School, 도쿄 오모테산도의 [[크리스챤 디올]] 빌딩 등이 있다.\\n\\n세지마 카즈요(妹島和世:사진에서 오른쪽)는 [[니혼여자대학]] 가정학부 주거학과 졸업. 니시자와 류에(西沢立衛:사진에서 왼쪽)는 [[요코하마국립대학]] 공학부 건축학과 졸업.\\n\\n특유의 심플한 디자인과 하얀 외장, 가는 기둥, 얇은 슬라브로 가벼운 느낌을 내면서 자유로운 공간을 구축하는게 특징이다. 구조적으로 굉장히 어려운 디자인을 최신 기술을 보유한 엔지니어 회사와의 협력으로 해내는 경우로도 유명한데 대표적인게 로잔느 Rolex Center의 유려한 콘크리트 곡면 슬라브.\\n건축뿐 아니라 가구 디자인도 한다. [[http://spacecroft.com/wp-content/uploads/2012/07/COSE-2012-07-sanaa-leaflet-low1.pdf|rabbit chair]]가 이쪽으로 유명한 편.\\n\\n[[분류:건축가]]\"]"
      ]
     },
     "execution_count": 47,
     "metadata": {},
     "output_type": "execute_result"
    }
   ],
   "source": [
    "filtered_documents[0]"
   ]
  },
  {
   "cell_type": "markdown",
   "metadata": {},
   "source": [
    "## 전처리"
   ]
  },
  {
   "cell_type": "code",
   "execution_count": 53,
   "metadata": {},
   "outputs": [],
   "source": [
    "import re\n",
    "\n",
    "def preprocess_wiki_text(text):\n",
    "    text = re.sub(r\"\\[\\[파일:([^\\]]+)\\]\\]\", \"\", text)\n",
    "    text = re.sub(r\"\\[\\[https?://[^\\s\\[\\]]+\\s?([^\\[\\]]+)?\\]\\]\", \"\", text)\n",
    "    text = re.sub(r\"\\[\\[([^\\|\\]]+)\\|?([^\\]]+)?\\]\\]\", r\"\\1\", text)\n",
    "    text = re.sub(r\"\\[include\\([^\\)]+\\)\\]\", \"\", text)\n",
    "    text = re.sub(r\"\\{\\{\\{[^\\}]+\\}\\}\\}\", \"\", text)\n",
    "    text = re.sub(r\"\\{\\{\\#[^\\}]+\\}\\}\", \"\", text)\n",
    "    text = re.sub(r\"\\|\\|[^\\|]+\\|\\|\", \"\", text)\n",
    "    text = re.sub(r\"\\'{2,}\", \"\", text)\n",
    "    text = re.sub(r\"\\[\\목차\\]\", \"\", text)\n",
    "    text = re.sub(r\"\\=\\= [^\\=]+\\=\\=\", \"\", text)\n",
    "    text = re.sub(r\"\\n\\s*\\n\", \"\\n\", text)\n",
    "    text = text.strip()\n",
    "    return text\n",
    "\n",
    "for document in filtered_documents:\n",
    "    document[1] = preprocess_wiki_text(document[1])"
   ]
  },
  {
   "cell_type": "code",
   "execution_count": 49,
   "metadata": {},
   "outputs": [
    {
     "data": {
      "text/plain": [
       "'SANAA가 설계한 가나자와 21세기 박물관\\n일본의 건축 사무소 SANAA / Kazuyo Sejima + Ryue Nishizawa. Sejima And Nishizawa And Associates 의 약자라고 한다.\\n일본의 건축가 세지마 카즈요(妹島和世:사진에서 오른쪽)와 니시자와 류에(西沢立衛:사진에서 왼쪽)의 유닛 건축 사무소. 2010년 프리츠커상 수상[* 일본인으로는 역대 네번째. 니시자와 류에는 수상 당시 44세로 사상 최연소 프리츠커 수상자에 등극했다.] 및 일본건축협회상 2회 수상, 금사자상 수상 등 일본 국내 뿐 아니라 세계구급으로 유명한 건축 유닛이다. 대표적인 건축물로는 프리츠커상 수상작인 카나자와 21세기 미술관, 스위스 로잔 연방 공과대학교 캠퍼스의 EPFL Rolex Learning Center, 프랑스의 루브르 박물관 별관인 The Louvre Lens, 뉴욕의 New Museum of Contemporary Art, 독일 에센의 Zollverein Design School, 도쿄 오모테산도의 크리스챤 디올 빌딩 등이 있다.\\n세지마 카즈요(妹島和世:사진에서 오른쪽)는 니혼여자대학 가정학부 주거학과 졸업. 니시자와 류에(西沢立衛:사진에서 왼쪽)는 요코하마국립대학 공학부 건축학과 졸업.\\n특유의 심플한 디자인과 하얀 외장, 가는 기둥, 얇은 슬라브로 가벼운 느낌을 내면서 자유로운 공간을 구축하는게 특징이다. 구조적으로 굉장히 어려운 디자인을 최신 기술을 보유한 엔지니어 회사와의 협력으로 해내는 경우로도 유명한데 대표적인게 로잔느 Rolex Center의 유려한 콘크리트 곡면 슬라브.\\n건축뿐 아니라 가구 디자인도 한다. 가 이쪽으로 유명한 편.\\n분류:건축가'"
      ]
     },
     "execution_count": 49,
     "metadata": {},
     "output_type": "execute_result"
    }
   ],
   "source": [
    "filtered_documents[0][1]"
   ]
  },
  {
   "cell_type": "markdown",
   "metadata": {},
   "source": [
    "## DataFrame 변환 및 길이 조절"
   ]
  },
  {
   "cell_type": "code",
   "execution_count": 54,
   "metadata": {},
   "outputs": [],
   "source": [
    "import pandas as pd\n",
    "\n",
    "df = pd.DataFrame(filtered_documents)\n"
   ]
  },
  {
   "cell_type": "code",
   "execution_count": 51,
   "metadata": {},
   "outputs": [
    {
     "data": {
      "text/html": [
       "<div>\n",
       "<style scoped>\n",
       "    .dataframe tbody tr th:only-of-type {\n",
       "        vertical-align: middle;\n",
       "    }\n",
       "\n",
       "    .dataframe tbody tr th {\n",
       "        vertical-align: top;\n",
       "    }\n",
       "\n",
       "    .dataframe thead th {\n",
       "        text-align: right;\n",
       "    }\n",
       "</style>\n",
       "<table border=\"1\" class=\"dataframe\">\n",
       "  <thead>\n",
       "    <tr style=\"text-align: right;\">\n",
       "      <th></th>\n",
       "      <th>0</th>\n",
       "      <th>1</th>\n",
       "    </tr>\n",
       "  </thead>\n",
       "  <tbody>\n",
       "    <tr>\n",
       "      <th>0</th>\n",
       "      <td>SANAA</td>\n",
       "      <td>SANAA가 설계한 가나자와 21세기 박물관\\n일본의 건축 사무소 SANAA / K...</td>\n",
       "    </tr>\n",
       "    <tr>\n",
       "      <th>1</th>\n",
       "      <td>가로등</td>\n",
       "      <td>분류:건축물\\n거리의 조명이나 교통의 안전, 또는 미관 따위를 위하여 도로 변을 따...</td>\n",
       "    </tr>\n",
       "    <tr>\n",
       "      <th>2</th>\n",
       "      <td>각목</td>\n",
       "      <td>나무를 직육면체 형태로 길게 가공한 건축자재를 총칭하는 말. 길게 가공한 만큼 기둥...</td>\n",
       "    </tr>\n",
       "    <tr>\n",
       "      <th>3</th>\n",
       "      <td>객사</td>\n",
       "      <td>분류:동음이의어/ㄱ\\n客舍\\n궐패를 모셔놓고, 관아를 방문하는 관리나 사신들이 머물...</td>\n",
       "    </tr>\n",
       "    <tr>\n",
       "      <th>4</th>\n",
       "      <td>건물</td>\n",
       "      <td>빌딩. 토지에 정착된 구조물을 뜻한다. 법적으로 지붕과 기둥 ,벽. 이 세 가지 필...</td>\n",
       "    </tr>\n",
       "    <tr>\n",
       "      <th>...</th>\n",
       "      <td>...</td>\n",
       "      <td>...</td>\n",
       "    </tr>\n",
       "    <tr>\n",
       "      <th>412</th>\n",
       "      <td>김찬중</td>\n",
       "      <td>||\\n김찬중 소속 \\n고려대학교 건축학공학 학사[br]하버드대학교 석사 직업 \\n...</td>\n",
       "    </tr>\n",
       "    <tr>\n",
       "      <th>413</th>\n",
       "      <td>장윤규</td>\n",
       "      <td>||\\n장윤규 소속 \\n서울대학교 건축학 석사 직업 \\n1964년생으로 서울대학교 ...</td>\n",
       "    </tr>\n",
       "    <tr>\n",
       "      <th>414</th>\n",
       "      <td>최동규(건축가)</td>\n",
       "      <td>||\\n최동규 소속 \\n한양대학교 건축공학 석사 직업 \\n한양대학교 건축학과를 졸업...</td>\n",
       "    </tr>\n",
       "    <tr>\n",
       "      <th>415</th>\n",
       "      <td>서인종합건축사사무소</td>\n",
       "      <td>||\\n최동규 소속 \\n한양대학교 건축공학 석사 직업 \\n||\\n최유철(Alex Y...</td>\n",
       "    </tr>\n",
       "    <tr>\n",
       "      <th>416</th>\n",
       "      <td>블룸워크</td>\n",
       "      <td>분류:한국의 기업분류:디자인분류:대전광역시분류:캐릭터\\n블룸워크[br]Bloomwo...</td>\n",
       "    </tr>\n",
       "  </tbody>\n",
       "</table>\n",
       "<p>417 rows × 2 columns</p>\n",
       "</div>"
      ],
      "text/plain": [
       "              0                                                  1\n",
       "0         SANAA  SANAA가 설계한 가나자와 21세기 박물관\\n일본의 건축 사무소 SANAA / K...\n",
       "1           가로등  분류:건축물\\n거리의 조명이나 교통의 안전, 또는 미관 따위를 위하여 도로 변을 따...\n",
       "2            각목  나무를 직육면체 형태로 길게 가공한 건축자재를 총칭하는 말. 길게 가공한 만큼 기둥...\n",
       "3            객사  분류:동음이의어/ㄱ\\n客舍\\n궐패를 모셔놓고, 관아를 방문하는 관리나 사신들이 머물...\n",
       "4            건물  빌딩. 토지에 정착된 구조물을 뜻한다. 법적으로 지붕과 기둥 ,벽. 이 세 가지 필...\n",
       "..          ...                                                ...\n",
       "412         김찬중  ||\\n김찬중 소속 \\n고려대학교 건축학공학 학사[br]하버드대학교 석사 직업 \\n...\n",
       "413         장윤규  ||\\n장윤규 소속 \\n서울대학교 건축학 석사 직업 \\n1964년생으로 서울대학교 ...\n",
       "414    최동규(건축가)  ||\\n최동규 소속 \\n한양대학교 건축공학 석사 직업 \\n한양대학교 건축학과를 졸업...\n",
       "415  서인종합건축사사무소  ||\\n최동규 소속 \\n한양대학교 건축공학 석사 직업 \\n||\\n최유철(Alex Y...\n",
       "416        블룸워크  분류:한국의 기업분류:디자인분류:대전광역시분류:캐릭터\\n블룸워크[br]Bloomwo...\n",
       "\n",
       "[417 rows x 2 columns]"
      ]
     },
     "execution_count": 51,
     "metadata": {},
     "output_type": "execute_result"
    }
   ],
   "source": [
    "df"
   ]
  },
  {
   "cell_type": "code",
   "execution_count": 56,
   "metadata": {},
   "outputs": [],
   "source": [
    "new_rows = []\n",
    "\n",
    "for _, row in df.iterrows():\n",
    "    title = row[0]\n",
    "    text = row[1]\n",
    "    chunk_size = 512\n",
    "    chunks = [text[i:i+chunk_size] for i in range(0, len(text), chunk_size)]\n",
    "    for chunk in chunks:\n",
    "        new_rows.append([title, chunk])\n",
    "\n",
    "new_df = pd.DataFrame(new_rows)"
   ]
  },
  {
   "cell_type": "code",
   "execution_count": 57,
   "metadata": {},
   "outputs": [
    {
     "data": {
      "text/html": [
       "<div>\n",
       "<style scoped>\n",
       "    .dataframe tbody tr th:only-of-type {\n",
       "        vertical-align: middle;\n",
       "    }\n",
       "\n",
       "    .dataframe tbody tr th {\n",
       "        vertical-align: top;\n",
       "    }\n",
       "\n",
       "    .dataframe thead th {\n",
       "        text-align: right;\n",
       "    }\n",
       "</style>\n",
       "<table border=\"1\" class=\"dataframe\">\n",
       "  <thead>\n",
       "    <tr style=\"text-align: right;\">\n",
       "      <th></th>\n",
       "      <th>0</th>\n",
       "      <th>1</th>\n",
       "    </tr>\n",
       "  </thead>\n",
       "  <tbody>\n",
       "    <tr>\n",
       "      <th>0</th>\n",
       "      <td>가로등</td>\n",
       "      <td>분류:건축물\\n거리의 조명이나 교통의 안전, 또는 미관 따위를 위하여 도로 변을 따...</td>\n",
       "    </tr>\n",
       "    <tr>\n",
       "      <th>1</th>\n",
       "      <td>가로등</td>\n",
       "      <td>조도가 높으며, 전력 효율성이 좋기 때문이다. 현대에는 에너지 효율이 높은 LED ...</td>\n",
       "    </tr>\n",
       "    <tr>\n",
       "      <th>2</th>\n",
       "      <td>가로등</td>\n",
       "      <td>그날 일출/몰 이후 15분을 기준으로 하거나 주변 광량에 따라 자동 점, 소등 된...</td>\n",
       "    </tr>\n",
       "    <tr>\n",
       "      <th>3</th>\n",
       "      <td>가로등</td>\n",
       "      <td>잭스(리그 오브 레전드)는 이걸 무기로 사용한다. 가로등 이전에 사용했던 무기들은 ...</td>\n",
       "    </tr>\n",
       "    <tr>\n",
       "      <th>4</th>\n",
       "      <td>각목</td>\n",
       "      <td>나무를 직육면체 형태로 길게 가공한 건축자재를 총칭하는 말. 길게 가공한 만큼 기둥...</td>\n",
       "    </tr>\n",
       "    <tr>\n",
       "      <th>...</th>\n",
       "      <td>...</td>\n",
       "      <td>...</td>\n",
       "    </tr>\n",
       "    <tr>\n",
       "      <th>2429</th>\n",
       "      <td>컨소시엄 아파트</td>\n",
       "      <td>컨소시엄 아파트란 둘 이상의 건설사가 합작하여 지은 아파트를 말한다. 최근 들어 대...</td>\n",
       "    </tr>\n",
       "    <tr>\n",
       "      <th>2430</th>\n",
       "      <td>컨소시엄 아파트</td>\n",
       "      <td>==\\n====\\n 시공사  규모 \\n==\\n====\\n 시공사  규모 \\n==\\n...</td>\n",
       "    </tr>\n",
       "    <tr>\n",
       "      <th>2431</th>\n",
       "      <td>건국대학교/학부/건축대학</td>\n",
       "      <td>분류:건국대학교 분류:건축대학\\n2018년 대규모 학사구조개편을 통해, 건축대학 내...</td>\n",
       "    </tr>\n",
       "    <tr>\n",
       "      <th>2432</th>\n",
       "      <td>블룸워크</td>\n",
       "      <td>분류:한국의 기업분류:디자인분류:대전광역시분류:캐릭터\\n블룸워크[br]Bloomwo...</td>\n",
       "    </tr>\n",
       "    <tr>\n",
       "      <th>2433</th>\n",
       "      <td>블룸워크</td>\n",
       "      <td>2018년 대전광역시 예비사회적기업 지정, 발달장애인 아티스트 발굴 및 교육\\n *...</td>\n",
       "    </tr>\n",
       "  </tbody>\n",
       "</table>\n",
       "<p>2434 rows × 2 columns</p>\n",
       "</div>"
      ],
      "text/plain": [
       "                  0                                                  1\n",
       "0               가로등  분류:건축물\\n거리의 조명이나 교통의 안전, 또는 미관 따위를 위하여 도로 변을 따...\n",
       "1               가로등  조도가 높으며, 전력 효율성이 좋기 때문이다. 현대에는 에너지 효율이 높은 LED ...\n",
       "2               가로등   그날 일출/몰 이후 15분을 기준으로 하거나 주변 광량에 따라 자동 점, 소등 된...\n",
       "3               가로등  잭스(리그 오브 레전드)는 이걸 무기로 사용한다. 가로등 이전에 사용했던 무기들은 ...\n",
       "4                각목  나무를 직육면체 형태로 길게 가공한 건축자재를 총칭하는 말. 길게 가공한 만큼 기둥...\n",
       "...             ...                                                ...\n",
       "2429       컨소시엄 아파트  컨소시엄 아파트란 둘 이상의 건설사가 합작하여 지은 아파트를 말한다. 최근 들어 대...\n",
       "2430       컨소시엄 아파트  ==\\n====\\n 시공사  규모 \\n==\\n====\\n 시공사  규모 \\n==\\n...\n",
       "2431  건국대학교/학부/건축대학  분류:건국대학교 분류:건축대학\\n2018년 대규모 학사구조개편을 통해, 건축대학 내...\n",
       "2432           블룸워크  분류:한국의 기업분류:디자인분류:대전광역시분류:캐릭터\\n블룸워크[br]Bloomwo...\n",
       "2433           블룸워크  2018년 대전광역시 예비사회적기업 지정, 발달장애인 아티스트 발굴 및 교육\\n *...\n",
       "\n",
       "[2434 rows x 2 columns]"
      ]
     },
     "execution_count": 57,
     "metadata": {},
     "output_type": "execute_result"
    }
   ],
   "source": [
    "new_df"
   ]
  },
  {
   "cell_type": "code",
   "execution_count": 59,
   "metadata": {},
   "outputs": [],
   "source": [
    "new_df.to_csv('namuwiki_augment.csv')"
   ]
  }
 ],
 "metadata": {
  "kernelspec": {
   "display_name": "base",
   "language": "python",
   "name": "python3"
  },
  "language_info": {
   "codemirror_mode": {
    "name": "ipython",
    "version": 3
   },
   "file_extension": ".py",
   "mimetype": "text/x-python",
   "name": "python",
   "nbconvert_exporter": "python",
   "pygments_lexer": "ipython3",
   "version": "3.11.4"
  }
 },
 "nbformat": 4,
 "nbformat_minor": 2
}
